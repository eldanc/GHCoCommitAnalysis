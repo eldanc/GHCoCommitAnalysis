{
 "cells": [
  {
   "cell_type": "markdown",
   "metadata": {},
   "source": [
    "# Large-Scale Analysis of the Co-Commit Patterns of the Active Developers in GitHub’s Top Repositories (MSR'18)\n",
    "## Part 1: Data Preparation\n",
    "**Eldan Cohen, Mariano P. Consens**"
   ]
  },
  {
   "cell_type": "markdown",
   "metadata": {},
   "source": [
    "## Imports and configurations"
   ]
  },
  {
   "cell_type": "code",
   "execution_count": 1,
   "metadata": {},
   "outputs": [],
   "source": [
    "import glob\n",
    "import os.path\n",
    "from pyspark.sql.functions import *\n",
    "import datetime\n",
    "from functools import reduce\n",
    "from collections import defaultdict"
   ]
  },
  {
   "cell_type": "code",
   "execution_count": 2,
   "metadata": {},
   "outputs": [],
   "source": [
    "DATA_FOLDER = \"gh_all\"\n",
    "OUTPUT_GRAPH_FOLDER = \"gh_graphs\""
   ]
  },
  {
   "cell_type": "markdown",
   "metadata": {},
   "source": [
    "## Loading GitHub's contribution data"
   ]
  },
  {
   "cell_type": "markdown",
   "metadata": {},
   "source": [
    "DATA_FOLDER includes a CSV file per language covring the contribution data for the whole time period of three years"
   ]
  },
  {
   "cell_type": "code",
   "execution_count": 3,
   "metadata": {},
   "outputs": [],
   "source": [
    "langDataPath = {os.path.basename(csvPath).split(\".\")[0].title(): csvPath\n",
    "                for csvPath in glob.glob(os.path.join(DATA_FOLDER, \"*\"))}"
   ]
  },
  {
   "cell_type": "code",
   "execution_count": 4,
   "metadata": {},
   "outputs": [
    {
     "data": {
      "text/plain": [
       "{'C': 'gh_all/c.csv',\n",
       " 'C#': 'gh_all/c#.csv',\n",
       " 'C++': 'gh_all/c++.csv',\n",
       " 'Clojure': 'gh_all/clojure.csv',\n",
       " 'Go': 'gh_all/go.csv',\n",
       " 'Haskell': 'gh_all/haskell.csv',\n",
       " 'Java': 'gh_all/java.csv',\n",
       " 'Javascript': 'gh_all/javascript.csv',\n",
       " 'Julia': 'gh_all/julia.csv',\n",
       " 'Ocaml': 'gh_all/ocaml.csv',\n",
       " 'Php': 'gh_all/php.csv',\n",
       " 'Python': 'gh_all/python.csv',\n",
       " 'R': 'gh_all/r.csv',\n",
       " 'Ruby': 'gh_all/ruby.csv',\n",
       " 'Rust': 'gh_all/rust.csv',\n",
       " 'Scala': 'gh_all/scala.csv',\n",
       " 'Scheme': 'gh_all/scheme.csv'}"
      ]
     },
     "execution_count": 4,
     "metadata": {},
     "output_type": "execute_result"
    }
   ],
   "source": [
    "langDataPath"
   ]
  },
  {
   "cell_type": "markdown",
   "metadata": {},
   "source": [
    "Read each CSV into a spark dataframe. langDF is a dict that maps from a language to the spark dataframe of its contribution data."
   ]
  },
  {
   "cell_type": "code",
   "execution_count": 5,
   "metadata": {},
   "outputs": [],
   "source": [
    "def readDF(lang, langPath):\n",
    "    return spark.read.csv(langPath, header=True). \\\n",
    "        withColumn(\"language\", lit(lang)). \\\n",
    "        withColumn(\"week\", to_date(split(\"week\", \" \")[0], 'yyyy-MM-dd')). \\\n",
    "        withColumnRenamed(\"week\", \"date\"). \\\n",
    "        selectExpr(\"repoName as repository\",\n",
    "                   \"login\",\n",
    "                   \"date\",\n",
    "                   \"c as commits\",\n",
    "                   \"language\")"
   ]
  },
  {
   "cell_type": "code",
   "execution_count": 6,
   "metadata": {},
   "outputs": [],
   "source": [
    "langDF = {lang: readDF(lang, langPath) for lang,langPath in langDataPath.items()}"
   ]
  },
  {
   "cell_type": "markdown",
   "metadata": {},
   "source": [
    "Show the head of the dataframe:"
   ]
  },
  {
   "cell_type": "code",
   "execution_count": 7,
   "metadata": {},
   "outputs": [
    {
     "data": {
      "text/html": [
       "<div>\n",
       "<style scoped>\n",
       "    .dataframe tbody tr th:only-of-type {\n",
       "        vertical-align: middle;\n",
       "    }\n",
       "\n",
       "    .dataframe tbody tr th {\n",
       "        vertical-align: top;\n",
       "    }\n",
       "\n",
       "    .dataframe thead th {\n",
       "        text-align: right;\n",
       "    }\n",
       "</style>\n",
       "<table border=\"1\" class=\"dataframe\">\n",
       "  <thead>\n",
       "    <tr style=\"text-align: right;\">\n",
       "      <th></th>\n",
       "      <th>repository</th>\n",
       "      <th>login</th>\n",
       "      <th>date</th>\n",
       "      <th>commits</th>\n",
       "      <th>language</th>\n",
       "    </tr>\n",
       "  </thead>\n",
       "  <tbody>\n",
       "    <tr>\n",
       "      <th>0</th>\n",
       "      <td>jkbrzt/httpie</td>\n",
       "      <td>asnelzin</td>\n",
       "      <td>2014-11-09</td>\n",
       "      <td>1</td>\n",
       "      <td>Python</td>\n",
       "    </tr>\n",
       "    <tr>\n",
       "      <th>1</th>\n",
       "      <td>jkbrzt/httpie</td>\n",
       "      <td>dongweiming</td>\n",
       "      <td>2016-08-28</td>\n",
       "      <td>1</td>\n",
       "      <td>Python</td>\n",
       "    </tr>\n",
       "    <tr>\n",
       "      <th>2</th>\n",
       "      <td>jkbrzt/httpie</td>\n",
       "      <td>zquestz</td>\n",
       "      <td>2016-08-07</td>\n",
       "      <td>1</td>\n",
       "      <td>Python</td>\n",
       "    </tr>\n",
       "    <tr>\n",
       "      <th>3</th>\n",
       "      <td>jkbrzt/httpie</td>\n",
       "      <td>ii-v</td>\n",
       "      <td>2016-08-07</td>\n",
       "      <td>1</td>\n",
       "      <td>Python</td>\n",
       "    </tr>\n",
       "    <tr>\n",
       "      <th>4</th>\n",
       "      <td>jkbrzt/httpie</td>\n",
       "      <td>mmb</td>\n",
       "      <td>2012-04-01</td>\n",
       "      <td>1</td>\n",
       "      <td>Python</td>\n",
       "    </tr>\n",
       "  </tbody>\n",
       "</table>\n",
       "</div>"
      ],
      "text/plain": [
       "      repository        login        date commits language\n",
       "0  jkbrzt/httpie     asnelzin  2014-11-09       1   Python\n",
       "1  jkbrzt/httpie  dongweiming  2016-08-28       1   Python\n",
       "2  jkbrzt/httpie      zquestz  2016-08-07       1   Python\n",
       "3  jkbrzt/httpie         ii-v  2016-08-07       1   Python\n",
       "4  jkbrzt/httpie          mmb  2012-04-01       1   Python"
      ]
     },
     "execution_count": 7,
     "metadata": {},
     "output_type": "execute_result"
    }
   ],
   "source": [
    "langDF[\"Python\"].limit(5).toPandas()"
   ]
  },
  {
   "cell_type": "markdown",
   "metadata": {},
   "source": [
    "### Statistics per Language\n",
    "Build a combined dataframe of all languages' data and compute some statistics."
   ]
  },
  {
   "cell_type": "code",
   "execution_count": 8,
   "metadata": {},
   "outputs": [],
   "source": [
    "combinedDF = reduce(lambda df1, df2: df1.union(df2), langDF.values())"
   ]
  },
  {
   "cell_type": "code",
   "execution_count": 9,
   "metadata": {},
   "outputs": [
    {
     "data": {
      "text/html": [
       "<div>\n",
       "<style scoped>\n",
       "    .dataframe tbody tr th:only-of-type {\n",
       "        vertical-align: middle;\n",
       "    }\n",
       "\n",
       "    .dataframe tbody tr th {\n",
       "        vertical-align: top;\n",
       "    }\n",
       "\n",
       "    .dataframe thead th {\n",
       "        text-align: right;\n",
       "    }\n",
       "</style>\n",
       "<table border=\"1\" class=\"dataframe\">\n",
       "  <thead>\n",
       "    <tr style=\"text-align: right;\">\n",
       "      <th></th>\n",
       "      <th>language</th>\n",
       "      <th>numRepositories</th>\n",
       "      <th>numDevelopers</th>\n",
       "      <th>numCommits</th>\n",
       "    </tr>\n",
       "  </thead>\n",
       "  <tbody>\n",
       "    <tr>\n",
       "      <th>0</th>\n",
       "      <td>C</td>\n",
       "      <td>988</td>\n",
       "      <td>24980</td>\n",
       "      <td>1687163.0</td>\n",
       "    </tr>\n",
       "    <tr>\n",
       "      <th>1</th>\n",
       "      <td>C#</td>\n",
       "      <td>997</td>\n",
       "      <td>14863</td>\n",
       "      <td>838687.0</td>\n",
       "    </tr>\n",
       "    <tr>\n",
       "      <th>2</th>\n",
       "      <td>C++</td>\n",
       "      <td>995</td>\n",
       "      <td>27048</td>\n",
       "      <td>2155219.0</td>\n",
       "    </tr>\n",
       "    <tr>\n",
       "      <th>3</th>\n",
       "      <td>Clojure</td>\n",
       "      <td>997</td>\n",
       "      <td>3843</td>\n",
       "      <td>246797.0</td>\n",
       "    </tr>\n",
       "    <tr>\n",
       "      <th>4</th>\n",
       "      <td>Go</td>\n",
       "      <td>999</td>\n",
       "      <td>15214</td>\n",
       "      <td>623247.0</td>\n",
       "    </tr>\n",
       "    <tr>\n",
       "      <th>5</th>\n",
       "      <td>Haskell</td>\n",
       "      <td>993</td>\n",
       "      <td>3885</td>\n",
       "      <td>383923.0</td>\n",
       "    </tr>\n",
       "    <tr>\n",
       "      <th>6</th>\n",
       "      <td>Java</td>\n",
       "      <td>996</td>\n",
       "      <td>19404</td>\n",
       "      <td>1130188.0</td>\n",
       "    </tr>\n",
       "    <tr>\n",
       "      <th>7</th>\n",
       "      <td>Javascript</td>\n",
       "      <td>1000</td>\n",
       "      <td>39021</td>\n",
       "      <td>921785.0</td>\n",
       "    </tr>\n",
       "    <tr>\n",
       "      <th>8</th>\n",
       "      <td>Julia</td>\n",
       "      <td>993</td>\n",
       "      <td>1563</td>\n",
       "      <td>154033.0</td>\n",
       "    </tr>\n",
       "    <tr>\n",
       "      <th>9</th>\n",
       "      <td>Ocaml</td>\n",
       "      <td>967</td>\n",
       "      <td>1854</td>\n",
       "      <td>298147.0</td>\n",
       "    </tr>\n",
       "    <tr>\n",
       "      <th>10</th>\n",
       "      <td>Php</td>\n",
       "      <td>994</td>\n",
       "      <td>25387</td>\n",
       "      <td>1104364.0</td>\n",
       "    </tr>\n",
       "    <tr>\n",
       "      <th>11</th>\n",
       "      <td>Python</td>\n",
       "      <td>1000</td>\n",
       "      <td>36757</td>\n",
       "      <td>1233076.0</td>\n",
       "    </tr>\n",
       "    <tr>\n",
       "      <th>12</th>\n",
       "      <td>R</td>\n",
       "      <td>987</td>\n",
       "      <td>2298</td>\n",
       "      <td>217092.0</td>\n",
       "    </tr>\n",
       "    <tr>\n",
       "      <th>13</th>\n",
       "      <td>Ruby</td>\n",
       "      <td>998</td>\n",
       "      <td>31207</td>\n",
       "      <td>1051830.0</td>\n",
       "    </tr>\n",
       "    <tr>\n",
       "      <th>14</th>\n",
       "      <td>Rust</td>\n",
       "      <td>997</td>\n",
       "      <td>4492</td>\n",
       "      <td>254694.0</td>\n",
       "    </tr>\n",
       "    <tr>\n",
       "      <th>15</th>\n",
       "      <td>Scala</td>\n",
       "      <td>996</td>\n",
       "      <td>7679</td>\n",
       "      <td>446835.0</td>\n",
       "    </tr>\n",
       "    <tr>\n",
       "      <th>16</th>\n",
       "      <td>Scheme</td>\n",
       "      <td>930</td>\n",
       "      <td>1425</td>\n",
       "      <td>207309.0</td>\n",
       "    </tr>\n",
       "  </tbody>\n",
       "</table>\n",
       "</div>"
      ],
      "text/plain": [
       "      language  numRepositories  numDevelopers  numCommits\n",
       "0            C              988          24980   1687163.0\n",
       "1           C#              997          14863    838687.0\n",
       "2          C++              995          27048   2155219.0\n",
       "3      Clojure              997           3843    246797.0\n",
       "4           Go              999          15214    623247.0\n",
       "5      Haskell              993           3885    383923.0\n",
       "6         Java              996          19404   1130188.0\n",
       "7   Javascript             1000          39021    921785.0\n",
       "8        Julia              993           1563    154033.0\n",
       "9        Ocaml              967           1854    298147.0\n",
       "10         Php              994          25387   1104364.0\n",
       "11      Python             1000          36757   1233076.0\n",
       "12           R              987           2298    217092.0\n",
       "13        Ruby              998          31207   1051830.0\n",
       "14        Rust              997           4492    254694.0\n",
       "15       Scala              996           7679    446835.0\n",
       "16      Scheme              930           1425    207309.0"
      ]
     },
     "execution_count": 9,
     "metadata": {},
     "output_type": "execute_result"
    }
   ],
   "source": [
    "combinedDF.groupby(\"language\").agg(countDistinct(\"repository\").alias(\"numRepositories\"), \n",
    "                                   countDistinct(\"login\").alias(\"numDevelopers\"), \n",
    "                                   sum(\"commits\").alias(\"numCommits\")\n",
    "                                  ).orderBy(\"language\").toPandas()"
   ]
  },
  {
   "cell_type": "markdown",
   "metadata": {},
   "source": [
    "## Creating Temporal Networks\n",
    "\n",
    "First, we define the 10 time periods covering the whole three years"
   ]
  },
  {
   "cell_type": "code",
   "execution_count": 10,
   "metadata": {},
   "outputs": [],
   "source": [
    "timePeriods = [\n",
    "    (datetime.date(2015,10,1), datetime.date(2016,7,1)),  # t1\n",
    "    (datetime.date(2015,7,1),  datetime.date(2016,4,1)),  # t2\n",
    "    (datetime.date(2015,4,1),  datetime.date(2016,1,1)),  # t3\n",
    "    (datetime.date(2015,1,1),  datetime.date(2015,10,1)), # t4\n",
    "    (datetime.date(2014,10,1), datetime.date(2015,7,1)),  # t5\n",
    "    (datetime.date(2014,7,1),  datetime.date(2015,4,1)),  # t6\n",
    "    (datetime.date(2014,4,1),  datetime.date(2015,1,1)),  # t7\n",
    "    (datetime.date(2014,1,1),  datetime.date(2014,10,1)), # t8\n",
    "    (datetime.date(2013,10,1), datetime.date(2014,7,1)),  # t9\n",
    "    (datetime.date(2013,7,1),  datetime.date(2014,4,1)),  # t10\n",
    "]"
   ]
  },
  {
   "cell_type": "markdown",
   "metadata": {},
   "source": [
    "The following function extract the full and core temporal networks for a given time period for a given language. \n",
    "\n",
    "*minDevelopers=2* eliminates private repositories, *theta=0.75* is the participation criteria. "
   ]
  },
  {
   "cell_type": "code",
   "execution_count": 11,
   "metadata": {},
   "outputs": [],
   "source": [
    "def extractTemporalNetworks(df, dateFrom, dateTo, minDevelopers = 2, theta = 0.75):\n",
    "    contributionCount =  df.where(df.date >= dateFrom). \\\n",
    "                            where(df.date < dateTo). \\\n",
    "                            groupBy(\"language\", \"repository\", \"login\"). \\\n",
    "                            agg(sum(\"commits\").alias(\"loginCommits\"))\n",
    "    reposStats = contributionCount.groupBy(\"language\", \"repository\"). \\\n",
    "                                   agg(avg(\"loginCommits\").alias(\"avgContribution\"), count(\"login\").alias(\"loginCount\"))\n",
    "    \n",
    "    filteredNetwork = contributionCount.join(reposStats, [\"language\", \"repository\"]). \\\n",
    "                                        where(reposStats.loginCount >= minDevelopers). \\\n",
    "                                        where(contributionCount.login.contains(\"invalid-email\") == False). \\\n",
    "                                        where(contributionCount.login != \"\")\n",
    "    \n",
    "    fullNetwork = filteredNetwork.select(\"language\", \"repository\", \"login\", \"loginCommits\")\n",
    "    coreNetwork = filteredNetwork.where(filteredNetwork.loginCommits >= theta*filteredNetwork.avgContribution). \\\n",
    "                                  select(\"language\", \"repository\", \"login\", \"loginCommits\")\n",
    "    \n",
    "    return (fullNetwork, coreNetwork)"
   ]
  },
  {
   "cell_type": "markdown",
   "metadata": {},
   "source": [
    "Now, we compute all the temporal networks for each language for each of time periods. We also compute the temporal network for the cumulative time period (denoted $t_c$)."
   ]
  },
  {
   "cell_type": "code",
   "execution_count": 12,
   "metadata": {},
   "outputs": [
    {
     "name": "stdout",
     "output_type": "stream",
     "text": [
      "t1; t2; t3; t4; t5; t6; t7; t8; t9; t10; tc\n"
     ]
    }
   ],
   "source": [
    "# Initialize a nested dict for temporal networks for each period and language: temporalNetworks[period][language]\n",
    "temporalNetworks = defaultdict(dict)\n",
    "\n",
    "for period in range(len(timePeriods)):\n",
    "    # Get the start and end date of this time period\n",
    "    periodFrom, periodTo = timePeriods[period]\n",
    "    \n",
    "    for lang in langDF:\n",
    "        # Extract and save temporal network for the given period and language\n",
    "        temporalNetworks[period+1][lang] = extractTemporalNetworks(langDF[lang], periodFrom, periodTo)\n",
    "    \n",
    "    # Report progress\n",
    "    print(\"t%d\" % (period+1,), end=\"; \")\n",
    "\n",
    "# Extract and save cumulative network\n",
    "cumFrom = timePeriods[-1][0] # start date of oldest time period\n",
    "cumTo = timePeriods[0][1] # end date of most recent time period\n",
    "for lang in langDF:\n",
    "        temporalNetworks[\"c\"][lang] = extractTemporalNetworks(langDF[lang], cumFrom, cumTo)\n",
    "print(\"tc\")"
   ]
  },
  {
   "cell_type": "markdown",
   "metadata": {},
   "source": [
    "### Statistics on the Temporal Networks\n",
    "\n",
    "We present the fraction of active developers and percent of commits for both $t_1$ and $t_c$."
   ]
  },
  {
   "cell_type": "markdown",
   "metadata": {},
   "source": [
    "** Statistics for $t_1$: **"
   ]
  },
  {
   "cell_type": "code",
   "execution_count": 13,
   "metadata": {},
   "outputs": [],
   "source": [
    "t1CoreAll = reduce(lambda df1, df2: df1.union(df2), [core for full, core in temporalNetworks[1].values()])\n",
    "t1FullAll = reduce(lambda df1, df2: df1.union(df2), [full for full, core in temporalNetworks[1].values()])"
   ]
  },
  {
   "cell_type": "code",
   "execution_count": 14,
   "metadata": {},
   "outputs": [],
   "source": [
    "t1CoreSummary = t1CoreAll.groupBy(\"language\").agg(countDistinct(\"login\").alias(\"numDevelopersCore\"), \n",
    "                                                  sum(\"loginCommits\").alias(\"numCommitsCore\")).toPandas()\n",
    "t1FullSummary = t1FullAll.groupBy(\"language\").agg(countDistinct(\"login\").alias(\"numDevelopersFull\"), \n",
    "                                                  sum(\"loginCommits\").alias(\"numCommitsFull\")).toPandas()"
   ]
  },
  {
   "cell_type": "code",
   "execution_count": 15,
   "metadata": {},
   "outputs": [
    {
     "data": {
      "text/html": [
       "<style  type=\"text/css\" >\n",
       "</style>  \n",
       "<table id=\"T_1f7cb400_5d0e_11e8_889f_000d3a0d5e91\" > \n",
       "<thead>    <tr> \n",
       "        <th class=\"blank level0\" ></th> \n",
       "        <th class=\"col_heading level0 col0\" >language</th> \n",
       "        <th class=\"col_heading level0 col1\" >fractionActiveDevelopers</th> \n",
       "        <th class=\"col_heading level0 col2\" >percentOfCommits</th> \n",
       "    </tr></thead> \n",
       "<tbody>    <tr> \n",
       "        <th id=\"T_1f7cb400_5d0e_11e8_889f_000d3a0d5e91level0_row0\" class=\"row_heading level0 row0\" >0</th> \n",
       "        <td id=\"T_1f7cb400_5d0e_11e8_889f_000d3a0d5e91row0_col0\" class=\"data row0 col0\" >C</td> \n",
       "        <td id=\"T_1f7cb400_5d0e_11e8_889f_000d3a0d5e91row0_col1\" class=\"data row0 col1\" >0.226</td> \n",
       "        <td id=\"T_1f7cb400_5d0e_11e8_889f_000d3a0d5e91row0_col2\" class=\"data row0 col2\" >87.0</td> \n",
       "    </tr>    <tr> \n",
       "        <th id=\"T_1f7cb400_5d0e_11e8_889f_000d3a0d5e91level0_row1\" class=\"row_heading level0 row1\" >1</th> \n",
       "        <td id=\"T_1f7cb400_5d0e_11e8_889f_000d3a0d5e91row1_col0\" class=\"data row1 col0\" >C#</td> \n",
       "        <td id=\"T_1f7cb400_5d0e_11e8_889f_000d3a0d5e91row1_col1\" class=\"data row1 col1\" >0.287</td> \n",
       "        <td id=\"T_1f7cb400_5d0e_11e8_889f_000d3a0d5e91row1_col2\" class=\"data row1 col2\" >89.8</td> \n",
       "    </tr>    <tr> \n",
       "        <th id=\"T_1f7cb400_5d0e_11e8_889f_000d3a0d5e91level0_row2\" class=\"row_heading level0 row2\" >2</th> \n",
       "        <td id=\"T_1f7cb400_5d0e_11e8_889f_000d3a0d5e91row2_col0\" class=\"data row2 col0\" >C++</td> \n",
       "        <td id=\"T_1f7cb400_5d0e_11e8_889f_000d3a0d5e91row2_col1\" class=\"data row2 col1\" >0.240</td> \n",
       "        <td id=\"T_1f7cb400_5d0e_11e8_889f_000d3a0d5e91row2_col2\" class=\"data row2 col2\" >89.3</td> \n",
       "    </tr>    <tr> \n",
       "        <th id=\"T_1f7cb400_5d0e_11e8_889f_000d3a0d5e91level0_row3\" class=\"row_heading level0 row3\" >3</th> \n",
       "        <td id=\"T_1f7cb400_5d0e_11e8_889f_000d3a0d5e91row3_col0\" class=\"data row3 col0\" >Clojure</td> \n",
       "        <td id=\"T_1f7cb400_5d0e_11e8_889f_000d3a0d5e91row3_col1\" class=\"data row3 col1\" >0.325</td> \n",
       "        <td id=\"T_1f7cb400_5d0e_11e8_889f_000d3a0d5e91row3_col2\" class=\"data row3 col2\" >90.3</td> \n",
       "    </tr>    <tr> \n",
       "        <th id=\"T_1f7cb400_5d0e_11e8_889f_000d3a0d5e91level0_row4\" class=\"row_heading level0 row4\" >4</th> \n",
       "        <td id=\"T_1f7cb400_5d0e_11e8_889f_000d3a0d5e91row4_col0\" class=\"data row4 col0\" >Go</td> \n",
       "        <td id=\"T_1f7cb400_5d0e_11e8_889f_000d3a0d5e91row4_col1\" class=\"data row4 col1\" >0.240</td> \n",
       "        <td id=\"T_1f7cb400_5d0e_11e8_889f_000d3a0d5e91row4_col2\" class=\"data row4 col2\" >89.6</td> \n",
       "    </tr>    <tr> \n",
       "        <th id=\"T_1f7cb400_5d0e_11e8_889f_000d3a0d5e91level0_row5\" class=\"row_heading level0 row5\" >5</th> \n",
       "        <td id=\"T_1f7cb400_5d0e_11e8_889f_000d3a0d5e91row5_col0\" class=\"data row5 col0\" >Haskell</td> \n",
       "        <td id=\"T_1f7cb400_5d0e_11e8_889f_000d3a0d5e91row5_col1\" class=\"data row5 col1\" >0.361</td> \n",
       "        <td id=\"T_1f7cb400_5d0e_11e8_889f_000d3a0d5e91row5_col2\" class=\"data row5 col2\" >90.5</td> \n",
       "    </tr>    <tr> \n",
       "        <th id=\"T_1f7cb400_5d0e_11e8_889f_000d3a0d5e91level0_row6\" class=\"row_heading level0 row6\" >6</th> \n",
       "        <td id=\"T_1f7cb400_5d0e_11e8_889f_000d3a0d5e91row6_col0\" class=\"data row6 col0\" >Java</td> \n",
       "        <td id=\"T_1f7cb400_5d0e_11e8_889f_000d3a0d5e91row6_col1\" class=\"data row6 col1\" >0.242</td> \n",
       "        <td id=\"T_1f7cb400_5d0e_11e8_889f_000d3a0d5e91row6_col2\" class=\"data row6 col2\" >88.7</td> \n",
       "    </tr>    <tr> \n",
       "        <th id=\"T_1f7cb400_5d0e_11e8_889f_000d3a0d5e91level0_row7\" class=\"row_heading level0 row7\" >7</th> \n",
       "        <td id=\"T_1f7cb400_5d0e_11e8_889f_000d3a0d5e91row7_col0\" class=\"data row7 col0\" >Javascript</td> \n",
       "        <td id=\"T_1f7cb400_5d0e_11e8_889f_000d3a0d5e91row7_col1\" class=\"data row7 col1\" >0.177</td> \n",
       "        <td id=\"T_1f7cb400_5d0e_11e8_889f_000d3a0d5e91row7_col2\" class=\"data row7 col2\" >87.3</td> \n",
       "    </tr>    <tr> \n",
       "        <th id=\"T_1f7cb400_5d0e_11e8_889f_000d3a0d5e91level0_row8\" class=\"row_heading level0 row8\" >8</th> \n",
       "        <td id=\"T_1f7cb400_5d0e_11e8_889f_000d3a0d5e91row8_col0\" class=\"data row8 col0\" >Julia</td> \n",
       "        <td id=\"T_1f7cb400_5d0e_11e8_889f_000d3a0d5e91row8_col1\" class=\"data row8 col1\" >0.457</td> \n",
       "        <td id=\"T_1f7cb400_5d0e_11e8_889f_000d3a0d5e91row8_col2\" class=\"data row8 col2\" >88.2</td> \n",
       "    </tr>    <tr> \n",
       "        <th id=\"T_1f7cb400_5d0e_11e8_889f_000d3a0d5e91level0_row9\" class=\"row_heading level0 row9\" >9</th> \n",
       "        <td id=\"T_1f7cb400_5d0e_11e8_889f_000d3a0d5e91row9_col0\" class=\"data row9 col0\" >Ocaml</td> \n",
       "        <td id=\"T_1f7cb400_5d0e_11e8_889f_000d3a0d5e91row9_col1\" class=\"data row9 col1\" >0.370</td> \n",
       "        <td id=\"T_1f7cb400_5d0e_11e8_889f_000d3a0d5e91row9_col2\" class=\"data row9 col2\" >88.7</td> \n",
       "    </tr>    <tr> \n",
       "        <th id=\"T_1f7cb400_5d0e_11e8_889f_000d3a0d5e91level0_row10\" class=\"row_heading level0 row10\" >10</th> \n",
       "        <td id=\"T_1f7cb400_5d0e_11e8_889f_000d3a0d5e91row10_col0\" class=\"data row10 col0\" >Php</td> \n",
       "        <td id=\"T_1f7cb400_5d0e_11e8_889f_000d3a0d5e91row10_col1\" class=\"data row10 col1\" >0.225</td> \n",
       "        <td id=\"T_1f7cb400_5d0e_11e8_889f_000d3a0d5e91row10_col2\" class=\"data row10 col2\" >88.3</td> \n",
       "    </tr>    <tr> \n",
       "        <th id=\"T_1f7cb400_5d0e_11e8_889f_000d3a0d5e91level0_row11\" class=\"row_heading level0 row11\" >11</th> \n",
       "        <td id=\"T_1f7cb400_5d0e_11e8_889f_000d3a0d5e91row11_col0\" class=\"data row11 col0\" >Python</td> \n",
       "        <td id=\"T_1f7cb400_5d0e_11e8_889f_000d3a0d5e91row11_col1\" class=\"data row11 col1\" >0.203</td> \n",
       "        <td id=\"T_1f7cb400_5d0e_11e8_889f_000d3a0d5e91row11_col2\" class=\"data row11 col2\" >87.9</td> \n",
       "    </tr>    <tr> \n",
       "        <th id=\"T_1f7cb400_5d0e_11e8_889f_000d3a0d5e91level0_row12\" class=\"row_heading level0 row12\" >12</th> \n",
       "        <td id=\"T_1f7cb400_5d0e_11e8_889f_000d3a0d5e91row12_col0\" class=\"data row12 col0\" >R</td> \n",
       "        <td id=\"T_1f7cb400_5d0e_11e8_889f_000d3a0d5e91row12_col1\" class=\"data row12 col1\" >0.365</td> \n",
       "        <td id=\"T_1f7cb400_5d0e_11e8_889f_000d3a0d5e91row12_col2\" class=\"data row12 col2\" >90.8</td> \n",
       "    </tr>    <tr> \n",
       "        <th id=\"T_1f7cb400_5d0e_11e8_889f_000d3a0d5e91level0_row13\" class=\"row_heading level0 row13\" >13</th> \n",
       "        <td id=\"T_1f7cb400_5d0e_11e8_889f_000d3a0d5e91row13_col0\" class=\"data row13 col0\" >Ruby</td> \n",
       "        <td id=\"T_1f7cb400_5d0e_11e8_889f_000d3a0d5e91row13_col1\" class=\"data row13 col1\" >0.193</td> \n",
       "        <td id=\"T_1f7cb400_5d0e_11e8_889f_000d3a0d5e91row13_col2\" class=\"data row13 col2\" >85.9</td> \n",
       "    </tr>    <tr> \n",
       "        <th id=\"T_1f7cb400_5d0e_11e8_889f_000d3a0d5e91level0_row14\" class=\"row_heading level0 row14\" >14</th> \n",
       "        <td id=\"T_1f7cb400_5d0e_11e8_889f_000d3a0d5e91row14_col0\" class=\"data row14 col0\" >Rust</td> \n",
       "        <td id=\"T_1f7cb400_5d0e_11e8_889f_000d3a0d5e91row14_col1\" class=\"data row14 col1\" >0.326</td> \n",
       "        <td id=\"T_1f7cb400_5d0e_11e8_889f_000d3a0d5e91row14_col2\" class=\"data row14 col2\" >89.4</td> \n",
       "    </tr>    <tr> \n",
       "        <th id=\"T_1f7cb400_5d0e_11e8_889f_000d3a0d5e91level0_row15\" class=\"row_heading level0 row15\" >15</th> \n",
       "        <td id=\"T_1f7cb400_5d0e_11e8_889f_000d3a0d5e91row15_col0\" class=\"data row15 col0\" >Scala</td> \n",
       "        <td id=\"T_1f7cb400_5d0e_11e8_889f_000d3a0d5e91row15_col1\" class=\"data row15 col1\" >0.300</td> \n",
       "        <td id=\"T_1f7cb400_5d0e_11e8_889f_000d3a0d5e91row15_col2\" class=\"data row15 col2\" >88.9</td> \n",
       "    </tr>    <tr> \n",
       "        <th id=\"T_1f7cb400_5d0e_11e8_889f_000d3a0d5e91level0_row16\" class=\"row_heading level0 row16\" >16</th> \n",
       "        <td id=\"T_1f7cb400_5d0e_11e8_889f_000d3a0d5e91row16_col0\" class=\"data row16 col0\" >Scheme</td> \n",
       "        <td id=\"T_1f7cb400_5d0e_11e8_889f_000d3a0d5e91row16_col1\" class=\"data row16 col1\" >0.371</td> \n",
       "        <td id=\"T_1f7cb400_5d0e_11e8_889f_000d3a0d5e91row16_col2\" class=\"data row16 col2\" >91.4</td> \n",
       "    </tr>    <tr> \n",
       "        <th id=\"T_1f7cb400_5d0e_11e8_889f_000d3a0d5e91level0_row17\" class=\"row_heading level0 row17\" >Median</th> \n",
       "        <td id=\"T_1f7cb400_5d0e_11e8_889f_000d3a0d5e91row17_col0\" class=\"data row17 col0\" >nan</td> \n",
       "        <td id=\"T_1f7cb400_5d0e_11e8_889f_000d3a0d5e91row17_col1\" class=\"data row17 col1\" >0.287</td> \n",
       "        <td id=\"T_1f7cb400_5d0e_11e8_889f_000d3a0d5e91row17_col2\" class=\"data row17 col2\" >88.9</td> \n",
       "    </tr></tbody> \n",
       "</table> "
      ],
      "text/plain": [
       "<pandas.io.formats.style.Styler at 0x7fe45d1a6080>"
      ]
     },
     "execution_count": 15,
     "metadata": {},
     "output_type": "execute_result"
    }
   ],
   "source": [
    "t1Summary = t1CoreSummary.merge(t1FullSummary, on=\"language\")\n",
    "t1Summary[\"fractionActiveDevelopers\"] = t1Summary[\"numDevelopersCore\"]/t1Summary[\"numDevelopersFull\"]\n",
    "t1Summary[\"percentOfCommits\"] = 100*(t1Summary[\"numCommitsCore\"]/t1Summary[\"numCommitsFull\"])\n",
    "t1Summary = t1Summary[[\"language\", \"fractionActiveDevelopers\", \"percentOfCommits\"]].sort_values(\"language\").reset_index(drop=True)\n",
    "t1Summary.loc['Median'] = t1Summary.median()\n",
    "t1Summary.style.format({\"fractionActiveDevelopers\": \"{:.3f}\", \"percentOfCommits\": \"{:.1f}\"})"
   ]
  },
  {
   "cell_type": "markdown",
   "metadata": {},
   "source": [
    "** Statistics for $t_c$: **"
   ]
  },
  {
   "cell_type": "code",
   "execution_count": 16,
   "metadata": {},
   "outputs": [],
   "source": [
    "tcCoreAll = reduce(lambda df1, df2: df1.union(df2), [core for full, core in temporalNetworks[\"c\"].values()])\n",
    "tcFullAll = reduce(lambda df1, df2: df1.union(df2), [full for full, core in temporalNetworks[\"c\"].values()])"
   ]
  },
  {
   "cell_type": "code",
   "execution_count": 17,
   "metadata": {},
   "outputs": [],
   "source": [
    "tcCoreSummary = tcCoreAll.groupBy(\"language\").agg(countDistinct(\"login\").alias(\"numDevelopersCore\"),\n",
    "                                                  sum(\"loginCommits\").alias(\"numCommitsCore\")).toPandas()\n",
    "tcFullSummary = tcFullAll.groupBy(\"language\").agg(countDistinct(\"login\").alias(\"numDevelopersFull\"),\n",
    "                                                  sum(\"loginCommits\").alias(\"numCommitsFull\")).toPandas()"
   ]
  },
  {
   "cell_type": "code",
   "execution_count": 18,
   "metadata": {},
   "outputs": [
    {
     "data": {
      "text/html": [
       "<style  type=\"text/css\" >\n",
       "</style>  \n",
       "<table id=\"T_6769f174_5d0e_11e8_889f_000d3a0d5e91\" > \n",
       "<thead>    <tr> \n",
       "        <th class=\"blank level0\" ></th> \n",
       "        <th class=\"col_heading level0 col0\" >language</th> \n",
       "        <th class=\"col_heading level0 col1\" >fractionActiveDevelopers</th> \n",
       "        <th class=\"col_heading level0 col2\" >percentOfCommits</th> \n",
       "    </tr></thead> \n",
       "<tbody>    <tr> \n",
       "        <th id=\"T_6769f174_5d0e_11e8_889f_000d3a0d5e91level0_row0\" class=\"row_heading level0 row0\" >0</th> \n",
       "        <td id=\"T_6769f174_5d0e_11e8_889f_000d3a0d5e91row0_col0\" class=\"data row0 col0\" >C</td> \n",
       "        <td id=\"T_6769f174_5d0e_11e8_889f_000d3a0d5e91row0_col1\" class=\"data row0 col1\" >0.173</td> \n",
       "        <td id=\"T_6769f174_5d0e_11e8_889f_000d3a0d5e91row0_col2\" class=\"data row0 col2\" >89.5</td> \n",
       "    </tr>    <tr> \n",
       "        <th id=\"T_6769f174_5d0e_11e8_889f_000d3a0d5e91level0_row1\" class=\"row_heading level0 row1\" >1</th> \n",
       "        <td id=\"T_6769f174_5d0e_11e8_889f_000d3a0d5e91row1_col0\" class=\"data row1 col0\" >C#</td> \n",
       "        <td id=\"T_6769f174_5d0e_11e8_889f_000d3a0d5e91row1_col1\" class=\"data row1 col1\" >0.204</td> \n",
       "        <td id=\"T_6769f174_5d0e_11e8_889f_000d3a0d5e91row1_col2\" class=\"data row1 col2\" >90.5</td> \n",
       "    </tr>    <tr> \n",
       "        <th id=\"T_6769f174_5d0e_11e8_889f_000d3a0d5e91level0_row2\" class=\"row_heading level0 row2\" >2</th> \n",
       "        <td id=\"T_6769f174_5d0e_11e8_889f_000d3a0d5e91row2_col0\" class=\"data row2 col0\" >C++</td> \n",
       "        <td id=\"T_6769f174_5d0e_11e8_889f_000d3a0d5e91row2_col1\" class=\"data row2 col1\" >0.182</td> \n",
       "        <td id=\"T_6769f174_5d0e_11e8_889f_000d3a0d5e91row2_col2\" class=\"data row2 col2\" >91.3</td> \n",
       "    </tr>    <tr> \n",
       "        <th id=\"T_6769f174_5d0e_11e8_889f_000d3a0d5e91level0_row3\" class=\"row_heading level0 row3\" >3</th> \n",
       "        <td id=\"T_6769f174_5d0e_11e8_889f_000d3a0d5e91row3_col0\" class=\"data row3 col0\" >Clojure</td> \n",
       "        <td id=\"T_6769f174_5d0e_11e8_889f_000d3a0d5e91row3_col1\" class=\"data row3 col1\" >0.254</td> \n",
       "        <td id=\"T_6769f174_5d0e_11e8_889f_000d3a0d5e91row3_col2\" class=\"data row3 col2\" >91.8</td> \n",
       "    </tr>    <tr> \n",
       "        <th id=\"T_6769f174_5d0e_11e8_889f_000d3a0d5e91level0_row4\" class=\"row_heading level0 row4\" >4</th> \n",
       "        <td id=\"T_6769f174_5d0e_11e8_889f_000d3a0d5e91row4_col0\" class=\"data row4 col0\" >Go</td> \n",
       "        <td id=\"T_6769f174_5d0e_11e8_889f_000d3a0d5e91row4_col1\" class=\"data row4 col1\" >0.177</td> \n",
       "        <td id=\"T_6769f174_5d0e_11e8_889f_000d3a0d5e91row4_col2\" class=\"data row4 col2\" >90.3</td> \n",
       "    </tr>    <tr> \n",
       "        <th id=\"T_6769f174_5d0e_11e8_889f_000d3a0d5e91level0_row5\" class=\"row_heading level0 row5\" >5</th> \n",
       "        <td id=\"T_6769f174_5d0e_11e8_889f_000d3a0d5e91row5_col0\" class=\"data row5 col0\" >Haskell</td> \n",
       "        <td id=\"T_6769f174_5d0e_11e8_889f_000d3a0d5e91row5_col1\" class=\"data row5 col1\" >0.276</td> \n",
       "        <td id=\"T_6769f174_5d0e_11e8_889f_000d3a0d5e91row5_col2\" class=\"data row5 col2\" >92.1</td> \n",
       "    </tr>    <tr> \n",
       "        <th id=\"T_6769f174_5d0e_11e8_889f_000d3a0d5e91level0_row6\" class=\"row_heading level0 row6\" >6</th> \n",
       "        <td id=\"T_6769f174_5d0e_11e8_889f_000d3a0d5e91row6_col0\" class=\"data row6 col0\" >Java</td> \n",
       "        <td id=\"T_6769f174_5d0e_11e8_889f_000d3a0d5e91row6_col1\" class=\"data row6 col1\" >0.169</td> \n",
       "        <td id=\"T_6769f174_5d0e_11e8_889f_000d3a0d5e91row6_col2\" class=\"data row6 col2\" >90.8</td> \n",
       "    </tr>    <tr> \n",
       "        <th id=\"T_6769f174_5d0e_11e8_889f_000d3a0d5e91level0_row7\" class=\"row_heading level0 row7\" >7</th> \n",
       "        <td id=\"T_6769f174_5d0e_11e8_889f_000d3a0d5e91row7_col0\" class=\"data row7 col0\" >Javascript</td> \n",
       "        <td id=\"T_6769f174_5d0e_11e8_889f_000d3a0d5e91row7_col1\" class=\"data row7 col1\" >0.131</td> \n",
       "        <td id=\"T_6769f174_5d0e_11e8_889f_000d3a0d5e91row7_col2\" class=\"data row7 col2\" >88.6</td> \n",
       "    </tr>    <tr> \n",
       "        <th id=\"T_6769f174_5d0e_11e8_889f_000d3a0d5e91level0_row8\" class=\"row_heading level0 row8\" >8</th> \n",
       "        <td id=\"T_6769f174_5d0e_11e8_889f_000d3a0d5e91row8_col0\" class=\"data row8 col0\" >Julia</td> \n",
       "        <td id=\"T_6769f174_5d0e_11e8_889f_000d3a0d5e91row8_col1\" class=\"data row8 col1\" >0.352</td> \n",
       "        <td id=\"T_6769f174_5d0e_11e8_889f_000d3a0d5e91row8_col2\" class=\"data row8 col2\" >89.6</td> \n",
       "    </tr>    <tr> \n",
       "        <th id=\"T_6769f174_5d0e_11e8_889f_000d3a0d5e91level0_row9\" class=\"row_heading level0 row9\" >9</th> \n",
       "        <td id=\"T_6769f174_5d0e_11e8_889f_000d3a0d5e91row9_col0\" class=\"data row9 col0\" >Ocaml</td> \n",
       "        <td id=\"T_6769f174_5d0e_11e8_889f_000d3a0d5e91row9_col1\" class=\"data row9 col1\" >0.305</td> \n",
       "        <td id=\"T_6769f174_5d0e_11e8_889f_000d3a0d5e91row9_col2\" class=\"data row9 col2\" >90.3</td> \n",
       "    </tr>    <tr> \n",
       "        <th id=\"T_6769f174_5d0e_11e8_889f_000d3a0d5e91level0_row10\" class=\"row_heading level0 row10\" >10</th> \n",
       "        <td id=\"T_6769f174_5d0e_11e8_889f_000d3a0d5e91row10_col0\" class=\"data row10 col0\" >Php</td> \n",
       "        <td id=\"T_6769f174_5d0e_11e8_889f_000d3a0d5e91row10_col1\" class=\"data row10 col1\" >0.166</td> \n",
       "        <td id=\"T_6769f174_5d0e_11e8_889f_000d3a0d5e91row10_col2\" class=\"data row10 col2\" >89.6</td> \n",
       "    </tr>    <tr> \n",
       "        <th id=\"T_6769f174_5d0e_11e8_889f_000d3a0d5e91level0_row11\" class=\"row_heading level0 row11\" >11</th> \n",
       "        <td id=\"T_6769f174_5d0e_11e8_889f_000d3a0d5e91row11_col0\" class=\"data row11 col0\" >Python</td> \n",
       "        <td id=\"T_6769f174_5d0e_11e8_889f_000d3a0d5e91row11_col1\" class=\"data row11 col1\" >0.155</td> \n",
       "        <td id=\"T_6769f174_5d0e_11e8_889f_000d3a0d5e91row11_col2\" class=\"data row11 col2\" >89.1</td> \n",
       "    </tr>    <tr> \n",
       "        <th id=\"T_6769f174_5d0e_11e8_889f_000d3a0d5e91level0_row12\" class=\"row_heading level0 row12\" >12</th> \n",
       "        <td id=\"T_6769f174_5d0e_11e8_889f_000d3a0d5e91row12_col0\" class=\"data row12 col0\" >R</td> \n",
       "        <td id=\"T_6769f174_5d0e_11e8_889f_000d3a0d5e91row12_col1\" class=\"data row12 col1\" >0.308</td> \n",
       "        <td id=\"T_6769f174_5d0e_11e8_889f_000d3a0d5e91row12_col2\" class=\"data row12 col2\" >92.6</td> \n",
       "    </tr>    <tr> \n",
       "        <th id=\"T_6769f174_5d0e_11e8_889f_000d3a0d5e91level0_row13\" class=\"row_heading level0 row13\" >13</th> \n",
       "        <td id=\"T_6769f174_5d0e_11e8_889f_000d3a0d5e91row13_col0\" class=\"data row13 col0\" >Ruby</td> \n",
       "        <td id=\"T_6769f174_5d0e_11e8_889f_000d3a0d5e91row13_col1\" class=\"data row13 col1\" >0.154</td> \n",
       "        <td id=\"T_6769f174_5d0e_11e8_889f_000d3a0d5e91row13_col2\" class=\"data row13 col2\" >87.6</td> \n",
       "    </tr>    <tr> \n",
       "        <th id=\"T_6769f174_5d0e_11e8_889f_000d3a0d5e91level0_row14\" class=\"row_heading level0 row14\" >14</th> \n",
       "        <td id=\"T_6769f174_5d0e_11e8_889f_000d3a0d5e91row14_col0\" class=\"data row14 col0\" >Rust</td> \n",
       "        <td id=\"T_6769f174_5d0e_11e8_889f_000d3a0d5e91row14_col1\" class=\"data row14 col1\" >0.235</td> \n",
       "        <td id=\"T_6769f174_5d0e_11e8_889f_000d3a0d5e91row14_col2\" class=\"data row14 col2\" >89.7</td> \n",
       "    </tr>    <tr> \n",
       "        <th id=\"T_6769f174_5d0e_11e8_889f_000d3a0d5e91level0_row15\" class=\"row_heading level0 row15\" >15</th> \n",
       "        <td id=\"T_6769f174_5d0e_11e8_889f_000d3a0d5e91row15_col0\" class=\"data row15 col0\" >Scala</td> \n",
       "        <td id=\"T_6769f174_5d0e_11e8_889f_000d3a0d5e91row15_col1\" class=\"data row15 col1\" >0.212</td> \n",
       "        <td id=\"T_6769f174_5d0e_11e8_889f_000d3a0d5e91row15_col2\" class=\"data row15 col2\" >90.4</td> \n",
       "    </tr>    <tr> \n",
       "        <th id=\"T_6769f174_5d0e_11e8_889f_000d3a0d5e91level0_row16\" class=\"row_heading level0 row16\" >16</th> \n",
       "        <td id=\"T_6769f174_5d0e_11e8_889f_000d3a0d5e91row16_col0\" class=\"data row16 col0\" >Scheme</td> \n",
       "        <td id=\"T_6769f174_5d0e_11e8_889f_000d3a0d5e91row16_col1\" class=\"data row16 col1\" >0.344</td> \n",
       "        <td id=\"T_6769f174_5d0e_11e8_889f_000d3a0d5e91row16_col2\" class=\"data row16 col2\" >94.0</td> \n",
       "    </tr>    <tr> \n",
       "        <th id=\"T_6769f174_5d0e_11e8_889f_000d3a0d5e91level0_row17\" class=\"row_heading level0 row17\" >Median</th> \n",
       "        <td id=\"T_6769f174_5d0e_11e8_889f_000d3a0d5e91row17_col0\" class=\"data row17 col0\" >nan</td> \n",
       "        <td id=\"T_6769f174_5d0e_11e8_889f_000d3a0d5e91row17_col1\" class=\"data row17 col1\" >0.204</td> \n",
       "        <td id=\"T_6769f174_5d0e_11e8_889f_000d3a0d5e91row17_col2\" class=\"data row17 col2\" >90.3</td> \n",
       "    </tr></tbody> \n",
       "</table> "
      ],
      "text/plain": [
       "<pandas.io.formats.style.Styler at 0x7fe452245c18>"
      ]
     },
     "execution_count": 18,
     "metadata": {},
     "output_type": "execute_result"
    }
   ],
   "source": [
    "tcSummary = tcCoreSummary.merge(tcFullSummary, on=\"language\")\n",
    "tcSummary[\"fractionActiveDevelopers\"] = tcSummary[\"numDevelopersCore\"]/tcSummary[\"numDevelopersFull\"]\n",
    "tcSummary[\"percentOfCommits\"] = 100*(tcSummary[\"numCommitsCore\"]/tcSummary[\"numCommitsFull\"])\n",
    "tcSummary = tcSummary[[\"language\", \"fractionActiveDevelopers\", \"percentOfCommits\"]].sort_values(\"language\").reset_index(drop=True)\n",
    "tcSummary.loc['Median'] = tcSummary.median()\n",
    "tcSummary.style.format({\"fractionActiveDevelopers\": \"{:.3f}\", \"percentOfCommits\": \"{:.1f}\"})"
   ]
  },
  {
   "cell_type": "markdown",
   "metadata": {},
   "source": [
    "## Creating the graphs\n",
    "We now create the graph files for each language for each time period.\n",
    "\n",
    "These graph files will be analyzed according to the chosen metrics in the following notebook."
   ]
  },
  {
   "cell_type": "markdown",
   "metadata": {},
   "source": [
    "- *graphDF* takes a temporal network created by *extractTemporalNetworks* and build a dataframe that represents the corresponding graph (list of edges)"
   ]
  },
  {
   "cell_type": "code",
   "execution_count": 19,
   "metadata": {},
   "outputs": [],
   "source": [
    "def graphDF(df):\n",
    "    # Select only the required fields\n",
    "    dfSelected = df.select(\"repository\", \"login\")\n",
    "    \n",
    "    # Create a dataframe of the edges in the graph\n",
    "    return dfSelected.withColumnRenamed(\"login\", \"login1\"). \\\n",
    "                      join(dfSelected.withColumnRenamed(\"login\", \"login2\"), \"repository\"). \\\n",
    "                      where(\"login1 <= login2\"). \\\n",
    "                      select(\"login1\", \"login2\"). \\\n",
    "                      distinct()"
   ]
  },
  {
   "cell_type": "markdown",
   "metadata": {},
   "source": [
    "* Now, we iterate over all time periods and languages and for each crate csv files for the corresponding full network graph and core network graph"
   ]
  },
  {
   "cell_type": "code",
   "execution_count": 20,
   "metadata": {},
   "outputs": [
    {
     "name": "stdout",
     "output_type": "stream",
     "text": [
      "t1: Ruby, Php, Scheme, Python, Clojure, C, Ocaml, C#, Javascript, Rust, R, Go, C++, Scala, Haskell, Java, Julia, \n",
      "t2: Ruby, Php, Scheme, Python, Clojure, C, Ocaml, C#, Javascript, Rust, R, Go, C++, Scala, Haskell, Java, Julia, \n",
      "t3: Ruby, Php, Scheme, Python, Clojure, C, Ocaml, C#, Javascript, Rust, R, Go, C++, Scala, Haskell, Java, Julia, \n",
      "t4: Ruby, Php, Scheme, Python, Clojure, C, Ocaml, C#, Javascript, Rust, R, Go, C++, Scala, Haskell, Java, Julia, \n",
      "t5: Ruby, Php, Scheme, Python, Clojure, C, Ocaml, C#, Javascript, Rust, R, Go, C++, Scala, Haskell, Java, Julia, \n",
      "t6: Ruby, Php, Scheme, Python, Clojure, C, Ocaml, C#, Javascript, Rust, R, Go, C++, Scala, Haskell, Java, Julia, \n",
      "t7: Ruby, Php, Scheme, Python, Clojure, C, Ocaml, C#, Javascript, Rust, R, Go, C++, Scala, Haskell, Java, Julia, \n",
      "t8: Ruby, Php, Scheme, Python, Clojure, C, Ocaml, C#, Javascript, Rust, R, Go, C++, Scala, Haskell, Java, Julia, \n",
      "t9: Ruby, Php, Scheme, Python, Clojure, C, Ocaml, C#, Javascript, Rust, R, Go, C++, Scala, Haskell, Java, Julia, \n",
      "t10: Ruby, Php, Scheme, Python, Clojure, C, Ocaml, C#, Javascript, Rust, R, Go, C++, Scala, Haskell, Java, Julia, \n",
      "tc: Ruby, Php, Scheme, Python, Clojure, C, Ocaml, C#, Javascript, Rust, R, Go, C++, Scala, Haskell, Java, Julia, \n"
     ]
    }
   ],
   "source": [
    "for period in temporalNetworks:\n",
    "    \n",
    "    # Create a subfolder for the graphs of this time period in OUTPUT_GRAPH_FOLDER\n",
    "    graphFolderPath = os.path.join(OUTPUT_GRAPH_FOLDER, \n",
    "                                       \"g%s\" % (str(period),))\n",
    "    os.makedirs(graphFolderPath, exist_ok=True)\n",
    "    \n",
    "    # Report progress\n",
    "    print(\"t%s\" % (str(period),), end=\": \")\n",
    "    \n",
    "    for lang in temporalNetworks[period]:\n",
    "        \n",
    "        # Extract the temporal core and full network for the language in the current time period\n",
    "        tempFull, tempCore = temporalNetworks[period][lang]\n",
    "        \n",
    "        # Write a CSV of the core graph edges\n",
    "        corePath = os.path.join(graphFolderPath,\n",
    "                                \"%s_core.csv\" % (lang,))\n",
    "        graphDF(tempCore).toPandas().to_csv(corePath, index=False, header=False)\n",
    "        \n",
    "        # Write a CSV of the full graph edges\n",
    "        fullPath = os.path.join(graphFolderPath,\n",
    "                                \"%s_full.csv\" %(lang,))\n",
    "        graphDF(tempFull).toPandas().to_csv(fullPath, index=False, header=False)\n",
    "        \n",
    "        # Report progress\n",
    "        print(\"%s\" % (lang,), end=\", \")\n",
    "    \n",
    "    print() # New line\n",
    "    "
   ]
  },
  {
   "cell_type": "markdown",
   "metadata": {},
   "source": [
    "Verify graph files were created:"
   ]
  },
  {
   "cell_type": "code",
   "execution_count": 23,
   "metadata": {},
   "outputs": [
    {
     "name": "stdout",
     "output_type": "stream",
     "text": [
      "total 148876\r\n",
      "drwxrwxr-x  2 my_user my_user     4096 May 21 15:51 .\r\n",
      "drwxrwxr-x 13 my_user my_user     4096 May 21 16:19 ..\r\n",
      "-rw-rw-r--  1 my_user my_user  1141150 May 21 15:49 C_core.csv\r\n",
      "-rw-rw-r--  1 my_user my_user   154687 May 21 15:50 C#_core.csv\r\n",
      "-rw-rw-r--  1 my_user my_user   315350 May 21 15:51 C++_core.csv\r\n",
      "-rw-rw-r--  1 my_user my_user 37133645 May 21 15:50 C_full.csv\r\n",
      "-rw-rw-r--  1 my_user my_user  2508478 May 21 15:50 C#_full.csv\r\n",
      "-rw-rw-r--  1 my_user my_user  8248483 May 21 15:51 C++_full.csv\r\n",
      "-rw-rw-r--  1 my_user my_user    15800 May 21 15:49 Clojure_core.csv\r\n",
      "-rw-rw-r--  1 my_user my_user   190792 May 21 15:49 Clojure_full.csv\r\n",
      "-rw-rw-r--  1 my_user my_user   224717 May 21 15:50 Go_core.csv\r\n",
      "-rw-rw-r--  1 my_user my_user  8681102 May 21 15:51 Go_full.csv\r\n",
      "-rw-rw-r--  1 my_user my_user    24812 May 21 15:51 Haskell_core.csv\r\n",
      "-rw-rw-r--  1 my_user my_user   421505 May 21 15:51 Haskell_full.csv\r\n",
      "-rw-rw-r--  1 my_user my_user   239597 May 21 15:51 Java_core.csv\r\n",
      "-rw-rw-r--  1 my_user my_user  8079389 May 21 15:51 Java_full.csv\r\n",
      "-rw-rw-r--  1 my_user my_user   312903 May 21 15:50 Javascript_core.csv\r\n",
      "-rw-rw-r--  1 my_user my_user 16296508 May 21 15:50 Javascript_full.csv\r\n",
      "-rw-rw-r--  1 my_user my_user    63735 May 21 15:51 Julia_core.csv\r\n",
      "-rw-rw-r--  1 my_user my_user  1178710 May 21 15:51 Julia_full.csv\r\n",
      "-rw-rw-r--  1 my_user my_user    23075 May 21 15:50 Ocaml_core.csv\r\n",
      "-rw-rw-r--  1 my_user my_user   498165 May 21 15:50 Ocaml_full.csv\r\n",
      "-rw-rw-r--  1 my_user my_user   216558 May 21 15:49 Php_core.csv\r\n",
      "-rw-rw-r--  1 my_user my_user  7543731 May 21 15:49 Php_full.csv\r\n",
      "-rw-rw-r--  1 my_user my_user   351517 May 21 15:49 Python_core.csv\r\n",
      "-rw-rw-r--  1 my_user my_user 14600780 May 21 15:49 Python_full.csv\r\n",
      "-rw-rw-r--  1 my_user my_user    11421 May 21 15:50 R_core.csv\r\n",
      "-rw-rw-r--  1 my_user my_user   122062 May 21 15:50 R_full.csv\r\n",
      "-rw-rw-r--  1 my_user my_user   357552 May 21 15:48 Ruby_core.csv\r\n",
      "-rw-rw-r--  1 my_user my_user 38356414 May 21 15:48 Ruby_full.csv\r\n",
      "-rw-rw-r--  1 my_user my_user    68606 May 21 15:50 Rust_core.csv\r\n",
      "-rw-rw-r--  1 my_user my_user  2514630 May 21 15:50 Rust_full.csv\r\n",
      "-rw-rw-r--  1 my_user my_user    92272 May 21 15:51 Scala_core.csv\r\n",
      "-rw-rw-r--  1 my_user my_user  2353138 May 21 15:51 Scala_full.csv\r\n",
      "-rw-rw-r--  1 my_user my_user     3611 May 21 15:49 Scheme_core.csv\r\n",
      "-rw-rw-r--  1 my_user my_user    45853 May 21 15:49 Scheme_full.csv\r\n"
     ]
    }
   ],
   "source": [
    "!ls -la gh_graphs/g1"
   ]
  },
  {
   "cell_type": "code",
   "execution_count": null,
   "metadata": {},
   "outputs": [],
   "source": []
  }
 ],
 "metadata": {
  "kernelspec": {
   "display_name": "Python 3 Spark - local",
   "language": "python",
   "name": "spark-3-python"
  },
  "language_info": {
   "codemirror_mode": {
    "name": "ipython",
    "version": 3
   },
   "file_extension": ".py",
   "mimetype": "text/x-python",
   "name": "python",
   "nbconvert_exporter": "python",
   "pygments_lexer": "ipython3",
   "version": "3.5.4"
  }
 },
 "nbformat": 4,
 "nbformat_minor": 2
}
